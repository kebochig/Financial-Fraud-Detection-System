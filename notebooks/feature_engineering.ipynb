{
 "cells": [
  {
   "cell_type": "markdown",
   "metadata": {},
   "source": [
    "# Feature Engineering with `feature_extractor.py`\n",
    "\n",
    "This notebook demonstrates the core functionalities of the feature extraction module, showcasing how structured features can be extracted from parsed transaction data."
   ]
  },
  {
   "cell_type": "code",
   "execution_count": null,
   "metadata": {},
   "outputs": [],
   "source": [
    "# Import necessary libraries\n",
    "import pandas as pd\n",
    "from src.features.feature_extractor import TransactionFeatureExtractor\n",
    "from src.parser.log_parser import TransactionLogParser\n",
    "import logging\n",
    "\n",
    "# Set up logging\n",
    "logging.basicConfig(level=logging.INFO)\n",
    "logger = logging.getLogger(__name__)\n",
    "\n",
    "# Initialize the feature extractor\n",
    "feature_extractor = TransactionFeatureExtractor()\n"
   ]
  },
  {
   "cell_type": "markdown",
   "metadata": {},
   "source": [
    "## Feature Extraction Process\n",
    "\n",
    "Below are examples of how to use the `feature_extractor` to process transaction data and extract meaningful features."
   ]
  },
  {
   "cell_type": "code",
   "execution_count": null,
   "metadata": {},
   "outputs": [],
   "source": [
    "# Load sample transaction logs\n",
    "logs = [\n",
    "    '2025-07-05 19:18:10::user1069::withdrawal::2995.12::London::iPhone 13',\n",
    "    'usr:user1076|cashout|€4821.85|Glasgow|2025-07-15 12:56:05|Pixel 6',\n",
    "    '2025-07-20 05:38:14 >> [user1034] did top-up - amt=€2191.06 - None // dev:iPhone 13',\n",
    "    '2025-07-23 15:57:12 | user: user1098 | txn: purchase of €2019.47 from Glasgow | device: None'\n",
    "]\n",
    "\n",
    "parser = TransactionLogParser()\n",
    "parsed_transactions = [\n",
    "    parser.parse_log_entry(log)\n",
    "    for log in logs\n",
    "]\n",
    "\n",
    "# Convert transactions to DataFrame\n",
    "data = [\n",
    "    {\n",
    "        'raw_log': t.raw_log,\n",
    "        'timestamp': t.timestamp,\n",
    "        'user_id': t.user_id,\n",
    "        'transaction_type': t.transaction_type,\n",
    "        'amount': t.amount,\n",
    "        'location': t.location,\n",
    "        'device': t.device,\n",
    "        'is_parsed': t.is_parsed\n",
    "    } for t in parsed_transactions\n",
    "]\n",
    "df = pd.DataFrame(data)\n",
    "\n",
    "# Display the parsed DataFrame\n",
    "df"
   ]
  },
  {
   "cell_type": "markdown",
   "metadata": {},
   "source": [
    "### Basic Feature Extraction\n",
    "\n",
    "Here we perform basic feature extraction on the parsed transaction data. This includes processing temporal features, amount features, and more."
   ]
  },
  {
   "cell_type": "code",
   "execution_count": null,
   "metadata": {},
   "outputs": [],
   "source": [
    "# Extract basic features\n",
    "df_basic_features = feature_extractor.extract_basic_features(df)\n",
    "\n",
    "# Display the dataframe with basic features\n",
    "df_basic_features.head()"
   ]
  },
  {
   "cell_type": "markdown",
   "metadata": {},
   "source": [
    "### User Behavioral Feature Extraction\n",
    "\n",
    "Next, we extract features that describe user behavior over time and across transactions."
   ]
  },
  {
   "cell_type": "code",
   "execution_count": null,
   "metadata": {},
   "outputs": [],
   "source": [
    "# Extract user behavioral features\n",
    "df_user_behavioral = feature_extractor.extract_user_behavioral_features(df_basic_features)\n",
    "\n",
    "# Display the dataframe with user behavioral features\n",
    "df_user_behavioral.head()"
   ]
  },
  {
   "cell_type": "markdown",
   "metadata": {},
   "source": [
    "### Temporal Feature Extraction\n",
    "\n",
    "We extract temporal and sequence-based features to understand transaction timing and patterns."
   ]
  },
  {
   "cell_type": "code",
   "execution_count": null,
   "metadata": {},
   "outputs": [],
   "source": [
    "# Extract temporal features\n",
    "df_temporal = feature_extractor.extract_temporal_features(df_user_behavioral)\n",
    "\n",
    "# Display the dataframe with temporal features\n",
    "df_temporal.head()"
   ]
  },
  {
   "cell_type": "markdown",
   "metadata": {},
   "source": [
    "### Contextual Features and Interactions\n",
    "\n",
    "Finally, we extract features that capture context and interactions across multiple dimensions, such as location and device combinations."
   ]
  },
  {
   "cell_type": "code",
   "execution_count": null,
   "metadata": {},
   "outputs": [],
   "source": [
    "# Extract contextual features\n",
    "df_contextual = feature_extractor.extract_contextual_features(df_temporal)\n",
    "\n",
    "# Display the dataframe with contextual and interaction features\n",
    "df_contextual.head()"
   ]
  },
  {
   "cell_type": "markdown",
   "metadata": {},
   "source": [
    "## Conclusion\n",
    "\n",
    "This notebook has demonstrated the comprehensive feature engineering capabilities of the `feature_extractor` module, enabling rich, structured data preparation from raw transaction logs."
   ]
  }
 ],
 "metadata": {
  "kernelspec": {
   "display_name": "Python 3",
   "language": "python",
   "name": "python3"
  },
  "language_info": {
   "codemirror_mode": {
    "name": "ipython",
    "version": 3
   },
   "file_extension": ".py",
   "mimetype": "text/x-python",
   "name": "python",
   "nbconvert_exporter": "python",
   "pygments_lexer": "ipython3",
   "version": "3.8"
  }
 },
 "nbformat": 4,
 "nbformat_minor": 5
}

