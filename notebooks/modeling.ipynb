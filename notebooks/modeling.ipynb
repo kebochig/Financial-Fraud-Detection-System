{
 "cells": [
  {
   "cell_type": "markdown",
   "metadata": {},
   "source": [
    "# Anomaly Detection Modeling\n",
    "\n",
    "This notebook demonstrates how to use the rule-based, statistical, and ensemble anomaly detection models in our fraud detection system."
   ]
  },
  {
   "cell_type": "code",
   "execution_count": null,
   "metadata": {},
   "outputs": [],
   "source": [
    "# Import necessary libraries\n",
    "import pandas as pd\n",
    "from src.models.rule_based import RuleBasedAnomalyDetector\n",
    "from src.models.statistical import StatisticalAnomalyDetector\n",
    "from src.models.ensemble import EnsembleAnomalyDetector\n",
    "import logging\n",
    "\n",
    "# Set up logging\n",
    "logging.basicConfig(level=logging.INFO)\n",
    "logger = logging.getLogger(__name__)\n"
   ]
  },
  {
   "cell_type": "markdown",
   "metadata": {},
   "source": [
    "## Rule-Based Anomaly Detection\n",
    "\n",
    "We'll start by using the rule-based anomaly detector which applies business rules and heuristics to flag unusual transactions."
   ]
  },
  {
   "cell_type": "code",
   "execution_count": null,
   "metadata": {},
   "outputs": [],
   "source": [
    "# Initialize and run the rule-based detector\n",
    "rule_detector = RuleBasedAnomalyDetector()\n",
    "\n",
    "# Sample transaction data\n",
    "sample_data = pd.DataFrame({\n",
    "    'amount': [100, 15000, 250, 5200],\n",
    "    'hour': [14, 3, 11, 22],\n",
    "    'location_rarity': [0.02, 0.5, 0.01, 0.06],\n",
    "    'device_changed': [0, 1, 0, 0],\n",
    "    'is_weekend': [0, 1, 0, 1]\n",
    "})\n",
    "\n",
    "# Run anomaly detection\n",
    "rule_scores, rule_details = rule_detector.detect_anomalies(sample_data)\n",
    "\n",
    "# Display rule-based results\n",
    "print('Rule-Based Anomaly Scores:', rule_scores)"
   ]
  },
  {
   "cell_type": "markdown",
   "metadata": {},
   "source": [
    "## Statistical Anomaly Detection\n",
    "\n",
    "Next, we demonstrate using statistical models like Isolation Forest and DBSCAN to detect anomalies."
   ]
  },
  {
   "cell_type": "code",
   "execution_count": null,
   "metadata": {},
   "outputs": [],
   "source": [
    "# Initialize and fit the statistical detector\n",
    "statistical_detector = StatisticalAnomalyDetector()\n",
    "statistical_detector.fit(sample_data)\n",
    "\n",
    "# Predict anomalies\n",
    "stat_scores = statistical_detector.predict_anomalies(sample_data)\n",
    "\n",
    "# Display statistical results\n",
    "print('Statistical Anomaly Scores:', stat_scores)"
   ]
  },
  {
   "cell_type": "markdown",
   "metadata": {},
   "source": [
    "## Ensemble Anomaly Detection\n",
    "\n",
    "Finally, we'll run the ensemble anomaly detector that combines both rule-based and statistical approaches for more comprehensive detection."
   ]
  },
  {
   "cell_type": "code",
   "execution_count": null,
   "metadata": {},
   "outputs": [],
   "source": [
    "# Initialize and fit the ensemble detector\n",
    "ensemble_detector = EnsembleAnomalyDetector()\n",
    "ensemble_detector.fit(sample_data)\n",
    "\n",
    "# Detect anomalies using the ensemble\n",
    "ensemble_scores, ensemble_results = ensemble_detector.detect_anomalies(sample_data)\n",
    "\n",
    "# Display ensemble results\n",
    "print('Ensemble Anomaly Scores:', ensemble_scores)\n",
    "print('Ensemble Results:', ensemble_results)"
   ]
  },
  {
   "cell_type": "markdown",
   "metadata": {},
   "source": [
    "## Conclusion\n",
    "\n",
    "This notebook illustrated the modeling process using rule-based, statistical, and ensemble methods to detect anomalies in transaction data, providing a comprehensive approach to fraud detection."
   ]
  }
 ],
 "metadata": {
  "kernelspec": {
   "display_name": "Python 3",
   "language": "python",
   "name": "python3"
  },
  "language_info": {
   "codemirror_mode": {
    "name": "ipython",
    "version": 3
   },
   "file_extension": ".py",
   "mimetype": "text/x-python",
   "name": "python",
   "nbconvert_exporter": "python",
   "pygments_lexer": "ipython3",
   "version": "3.8"
  }
 },
 "nbformat": 4,
 "nbformat_minor": 5
}

